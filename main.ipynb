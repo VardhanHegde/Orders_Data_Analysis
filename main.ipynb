{
 "cells": [
  {
   "cell_type": "code",
   "execution_count": null,
   "metadata": {},
   "outputs": [],
   "source": [
    "# import libs \n",
    "import pandas as pd"
   ]
  },
  {
   "cell_type": "code",
   "execution_count": null,
   "metadata": {},
   "outputs": [],
   "source": [
    "# import and handle dataset\n",
    "df = pd.read_csv('orders.csv',na_values= ['Not Available', 'unknown'])\n",
    "df['Ship Mode'].unique()"
   ]
  },
  {
   "cell_type": "code",
   "execution_count": null,
   "metadata": {},
   "outputs": [],
   "source": [
    "df.head(20)"
   ]
  },
  {
   "cell_type": "code",
   "execution_count": null,
   "metadata": {},
   "outputs": [],
   "source": [
    "# customize coulumn names\n",
    "df.columns = df.columns.str.lower()\n",
    "df.columns = df.columns.str.replace(\" \",'_')\n",
    "df.columns = df.columns.str.replace(\".\",'_')\n",
    "df.head()"
   ]
  },
  {
   "cell_type": "code",
   "execution_count": null,
   "metadata": {},
   "outputs": [],
   "source": [
    "# derive new columns\n",
    "df['discount'] = df['list_price']*df['discount_percent']*0.01\n",
    "df['sell_price'] = df['list_price']-df['discount']\n",
    "df['profit'] = df['sell_price']-df['discount']\n",
    "df.head()"
   ]
  },
  {
   "cell_type": "code",
   "execution_count": null,
   "metadata": {},
   "outputs": [],
   "source": [
    "# change dtatype for order_date\n",
    "df['order_date']=pd.to_datetime(df['order_date'],format=\"%Y-%m-%d\")\n",
    "df.head()"
   ]
  },
  {
   "cell_type": "code",
   "execution_count": null,
   "metadata": {},
   "outputs": [],
   "source": [
    "# drop unimportant columns\n",
    "df.drop(columns=['list_price','cost_price','discount_percent','country'],inplace = True)\n",
    "df.info()"
   ]
  },
  {
   "cell_type": "code",
   "execution_count": null,
   "metadata": {},
   "outputs": [],
   "source": [
    "# connect and store dataframe in mysql database\n",
    "\n",
    "from sqlalchemy import create_engine\n",
    "\n",
    "db_config = {\n",
    "    'user': 'dataanalyst',\n",
    "    'password': 'pass',\n",
    "    'host': 'localhost',\n",
    "    'database': 'kaggleAPI'\n",
    "}\n",
    "\n",
    "# Create an engine\n",
    "engine = create_engine(f\"mysql+mysqlconnector://{db_config['user']}:{db_config['password']}@{db_config['host']}/{db_config['database']}\")\n",
    "\n",
    "df.to_sql('dfOrders', con=engine, if_exists='replace', index=False)\n"
   ]
  }
 ],
 "metadata": {
  "kernelspec": {
   "display_name": "Python 3 (ipykernel)",
   "language": "python",
   "name": "python3"
  },
  "language_info": {
   "codemirror_mode": {
    "name": "ipython",
    "version": 3
   },
   "file_extension": ".py",
   "mimetype": "text/x-python",
   "name": "python",
   "nbconvert_exporter": "python",
   "pygments_lexer": "ipython3",
   "version": "3.12.3"
  }
 },
 "nbformat": 4,
 "nbformat_minor": 4
}
